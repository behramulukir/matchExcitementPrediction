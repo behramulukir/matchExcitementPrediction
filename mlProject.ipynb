{
 "cells": [
  {
   "cell_type": "code",
   "execution_count": 2,
   "id": "622a9fe1-8a91-4cc3-a6c5-d75b56415061",
   "metadata": {},
   "outputs": [],
   "source": [
    "import numpy as np\n",
    "import pandas as pd\n",
    "\n",
    "import matplotlib.pyplot as plt \n",
    "\n",
    "from sklearn.datasets import make_regression\n",
    "from sklearn.preprocessing import PolynomialFeatures\n",
    "from sklearn.linear_model import LinearRegression\n",
    "from sklearn.metrics import mean_squared_error\n",
    "from sklearn.model_selection import train_test_split\n",
    "from sklearn.tree import DecisionTreeRegressor"
   ]
  },
  {
   "cell_type": "code",
   "execution_count": 3,
   "id": "09861a3f-bb36-4541-8b0d-81c7470d319a",
   "metadata": {},
   "outputs": [],
   "source": [
    "raw_dataframe = pd.read_csv('combined_data.csv')\n",
    "\n",
    "necessary_data = raw_dataframe.drop(['Unnamed: 0', 'Home Team', 'Away Team','Score', 'Half Time Score', 'Home Team Rating', 'Away Team Rating',\n",
    "                   'Home Team Off Target Shots', 'Home Team On Target Shots', 'Home Team Blocked Shots', 'Home Team Corners',\n",
    "                    'Home Team Throw Ins', 'Home Team Aerials Won', 'Home Team Clearances', 'Home Team Yellow Cards',\n",
    "                   'Home Team Second Yellow Cards', 'Home Team Red Cards', 'Away Team Off Target Shots', 'Away Team On Target Shots',\n",
    "                   'Away Team Blocked Shots', 'Away Team Corners', 'Away Team Throw Ins', 'Away Team Aerials Won', 'Away Team Clearances',\n",
    "                   'Away Team Yellow Cards', 'Away Team Second Yellow Cards', 'Away Team Red Cards', 'Home Team Goals Conceeded',\n",
    "                    'Away Team Goals Conceeded', 'year', 'league'],axis=1)"
   ]
  },
  {
   "cell_type": "code",
   "execution_count": 4,
   "id": "e08cc3a1-a728-4531-84d1-e074bfb21844",
   "metadata": {},
   "outputs": [],
   "source": [
    "final_data = necessary_data\n",
    "\n",
    "final_data['Total Goal Number'] = necessary_data['Home Team Goals Scored'] + necessary_data['Away Team Goals Scored']\n",
    "\n",
    "final_data['Total Shot Number'] = necessary_data['Home Team Total Shots'] + necessary_data['Away Team Total Shots']\n",
    "\n",
    "final_data['Mean Pass Success Rate %'] = (necessary_data['Home Team Pass Success %'] + necessary_data['Away Team Pass Success %']) / 2\n",
    "\n",
    "final_data['Total Foul Number'] = necessary_data['Home Team Fouls'] + necessary_data['Away Team Fouls']\n",
    "\n",
    "final_data['Possession Difference %'] = abs(necessary_data['Home Team Possession %'] - necessary_data['Away Team Possession %'])\n",
    "\n",
    "final_data = final_data.drop(['Home Team Possession %', 'Away Team Possession %', 'Home Team Total Shots', 'Home Team Pass Success %', \n",
    "                 'Home Team Fouls', 'Away Team Total Shots', 'Away Team Pass Success %', 'Away Team Fouls', 'Home Team Goals Scored', \n",
    "                 'Away Team Goals Scored'], axis=1)"
   ]
  },
  {
   "cell_type": "code",
   "execution_count": 5,
   "id": "b32b6356-26a0-4931-8fbd-5ccaf06e0555",
   "metadata": {},
   "outputs": [],
   "source": [
    "X = final_data.drop(['Match Excitement'], axis=1).to_numpy().reshape(-1, 5)\n",
    "y = final_data['Match Excitement'].to_numpy()\n",
    "\n",
    "X_train, X_val_and_test, y_train, y_val_and_test = train_test_split(X, y, test_size=0.4, random_state=55)\n",
    "X_val, X_test, y_val, y_test = train_test_split(X_val_and_test, y_val_and_test, test_size=0.5, random_state=55)"
   ]
  },
  {
   "cell_type": "code",
   "execution_count": 6,
   "id": "58125a15-a4a6-465e-a356-caf8b3183a2b",
   "metadata": {},
   "outputs": [
    {
     "name": "stdout",
     "output_type": "stream",
     "text": [
      "[0.41334252802528054, 0.40038616916264536, 0.3898514732704131, 0.3763167637055534, 0.36377746647030806, 0.4847522911028888, 0.5118291842563393, 0.30762010159589914, 0.26384143789993714]\n",
      "[0.383290017116679, 0.37187031670863824, 0.37682854415298445, 0.39574072243378655, 0.4679851780423501, 8.184278265081966, 45.33783690306802, 169.71623819770352, 2094.3932116470046]\n"
     ]
    }
   ],
   "source": [
    "poly_tr_errors = []          \n",
    "poly_val_errors = []\n",
    "poly_degrees = []\n",
    "\n",
    "lin_regr = LinearRegression(fit_intercept=False)\n",
    "\n",
    "for degree in range(2, 11):\n",
    "    poly = PolynomialFeatures(degree=degree)    \n",
    "    X_train_poly = poly.fit_transform(X_train)    \n",
    "    lin_regr.fit(X_train_poly, y_train)    \n",
    "    \n",
    "    \n",
    "    y_pred_poly_train = lin_regr.predict(X_train_poly)\n",
    "    poly_tr_error = mean_squared_error(y_train, y_pred_poly_train)\n",
    "    X_val_poly = poly.fit_transform(X_val)\n",
    "    y_pred_poly__val = lin_regr.predict(X_val_poly)\n",
    "    poly_val_error = mean_squared_error(y_val, y_pred_poly__val)\n",
    "    \n",
    "    poly_tr_errors.append(poly_tr_error)\n",
    "    poly_val_errors.append(poly_val_error)\n",
    "    poly_degrees.append(degree)\n",
    "\n",
    "print(poly_tr_errors)   \n",
    "print(poly_val_errors)"
   ]
  },
  {
   "cell_type": "code",
   "execution_count": 7,
   "id": "7fbcd92d-efc6-449d-afca-0b0bae27ef34",
   "metadata": {},
   "outputs": [
    {
     "name": "stdout",
     "output_type": "stream",
     "text": [
      "0.40038616916264536\n",
      "0.37187031670863824\n"
     ]
    }
   ],
   "source": [
    "lin_regr = LinearRegression(fit_intercept=False)\n",
    "\n",
    "\n",
    "poly = PolynomialFeatures(degree=3)    \n",
    "X_train_poly = poly.fit_transform(X_train)    \n",
    "lin_regr.fit(X_train_poly, y_train)    \n",
    "    \n",
    "    \n",
    "y_pred_poly_train = lin_regr.predict(X_train_poly)\n",
    "poly_tr_error = mean_squared_error(y_train, y_pred_poly_train)\n",
    "X_val_poly = poly.fit_transform(X_val)\n",
    "y_pred_poly_val = lin_regr.predict(X_val_poly)\n",
    "poly_val_error = mean_squared_error(y_val, y_pred_poly_val)\n",
    "    \n",
    "\n",
    "print(poly_tr_error)\n",
    "print(poly_val_error)"
   ]
  },
  {
   "cell_type": "code",
   "execution_count": 8,
   "id": "5e736080-6522-4bbd-a0d1-8b2189a005aa",
   "metadata": {},
   "outputs": [
    {
     "name": "stdout",
     "output_type": "stream",
     "text": [
      "[1.2200990901425692, 0.7696351725956955, 0.5909809130812894, 0.47937193939718287, 0.4336013298018965, 0.4034267412081519, 0.37555575193449114, 0.34688842400155984, 0.30966956227106385]\n",
      "[1.1943334500621763, 0.7256690152146563, 0.5724756731027912, 0.4614396303080739, 0.41914992423967856, 0.4088869361908845, 0.4166061907760947, 0.44129967390200064, 0.4619947152649854]\n"
     ]
    }
   ],
   "source": [
    "dec_tr_errors = []          \n",
    "dec_val_errors = []\n",
    "max_depths = []\n",
    "\n",
    "\n",
    "for depth in range(1, 10):\n",
    "    decst_regr = DecisionTreeRegressor(max_depth=depth)\n",
    "    decst_regr.fit(X_train, y_train)\n",
    "    \n",
    "    \n",
    "    y_pred_dec_train = decst_regr.predict(X_train)\n",
    "    dec_tr_error = mean_squared_error(y_train, y_pred_dec_train)\n",
    "    y_pred_dec_val = decst_regr.predict(X_val)\n",
    "    dec_val_error = mean_squared_error(y_val, y_pred_dec_val)\n",
    "    \n",
    "    dec_tr_errors.append(dec_tr_error)\n",
    "    dec_val_errors.append(dec_val_error)\n",
    "    max_depths.append(degree)\n",
    "\n",
    "print(dec_tr_errors)   \n",
    "print(dec_val_errors)"
   ]
  },
  {
   "cell_type": "code",
   "execution_count": 9,
   "id": "1918c574-4a2e-4b79-b74b-5438988976b0",
   "metadata": {},
   "outputs": [
    {
     "name": "stdout",
     "output_type": "stream",
     "text": [
      "0.4034267412081519\n",
      "0.4088869361908845\n"
     ]
    }
   ],
   "source": [
    "decst_regr = DecisionTreeRegressor(max_depth=6)\n",
    "decst_regr.fit(X_train, y_train)\n",
    "    \n",
    "y_pred_dec_train = decst_regr.predict(X_train)\n",
    "dec_tr_error = mean_squared_error(y_train, y_pred_dec_train)\n",
    "y_pred_dec_val = decst_regr.predict(X_val)\n",
    "dec_val_error = mean_squared_error(y_val, y_pred_dec_val)\n",
    "    \n",
    "print(dec_tr_error)   \n",
    "print(dec_val_error)"
   ]
  },
  {
   "cell_type": "code",
   "execution_count": 13,
   "id": "e29e780c-3bd2-4d02-a543-df9381110ef1",
   "metadata": {},
   "outputs": [
    {
     "name": "stdout",
     "output_type": "stream",
     "text": [
      "0.41518273813915835\n",
      "0.4437461186524315\n"
     ]
    }
   ],
   "source": [
    "X_test_poly = poly.fit_transform(X_test)\n",
    "y_poly_test_pred = lin_regr.predict(X_test_poly)\n",
    "poly_test_error = mean_squared_error(y_test, y_poly_test_pred)\n",
    "\n",
    "y_dec_test_pred = decst_regr.predict(X_test)\n",
    "dec_test_error = mean_squared_error(y_test, y_dec_test_pred)\n",
    "\n",
    "print(poly_test_error)\n",
    "print(dec_test_error)"
   ]
  }
 ],
 "metadata": {
  "kernelspec": {
   "display_name": "Python 3",
   "language": "python",
   "name": "python3"
  },
  "language_info": {
   "codemirror_mode": {
    "name": "ipython",
    "version": 3
   },
   "file_extension": ".py",
   "mimetype": "text/x-python",
   "name": "python",
   "nbconvert_exporter": "python",
   "pygments_lexer": "ipython3",
   "version": "3.9.5"
  }
 },
 "nbformat": 4,
 "nbformat_minor": 5
}
